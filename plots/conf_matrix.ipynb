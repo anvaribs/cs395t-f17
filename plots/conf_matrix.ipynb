{
 "cells": [
  {
   "cell_type": "code",
   "execution_count": 60,
   "metadata": {
    "collapsed": false
   },
   "outputs": [
    {
     "name": "stdout",
     "output_type": "stream",
     "text": [
      "normalized l1 distance between y_true and y_pred:\n",
      "5.87322818926\n"
     ]
    }
   ],
   "source": [
    "import numpy as np\n",
    "from numpy import genfromtxt\n",
    "import pandas as pd\n",
    "import matplotlib\n",
    "from sklearn.metrics import confusion_matrix\n",
    "import keras.backend as K\n",
    "from keras.utils.np_utils import to_categorical\n",
    "\n",
    "\n",
    "\n",
    "data_set = \"valid\" # specify the dataset for which you want conf matrix\n",
    "\n",
    "y_pred_path = \"y_pred_\" + data_set + \".csv\"\n",
    "y_true_path = \"y_true_\" + data_set + \".csv\"\n",
    "\n",
    "y_true = genfromtxt(y_true_path, delimiter=',', dtype=int)\n",
    "y_pred = genfromtxt(y_pred_path, delimiter=',', dtype=int)\n",
    "\n",
    "# c_mat2 = genfromtxt('conf_matrix.csv', delimiter=',')\n",
    "c_mat = confusion_matrix(y_true, y_pred)\n",
    "import matplotlib.pyplot as plt\n",
    "\n",
    "# calculate the L1 distance\n",
    "print(\"normalized l1 distance between y_true and y_pred:\")\n",
    "print (np.linalg.norm((y_true - y_pred), ord=1)/len(y_true))"
   ]
  },
  {
   "cell_type": "code",
   "execution_count": 61,
   "metadata": {
    "collapsed": false
   },
   "outputs": [],
   "source": [
    "def mean_L1_distance(y_true, y_pred):\n",
    "    return np.mean(np.abs(np.argmax(y_pred,axis = -1) - np.argmax(y_true,axis = -1)), axis=-1)\n",
    "\n",
    "def min_L1_distance(y_true, y_pred):\n",
    "    return np.min(np.abs(np.argmax(y_pred,axis = -1) - np.argmax(y_true,axis = -1)), axis=-1)\n",
    "\n",
    "def max_L1_distance(y_true, y_pred):\n",
    "    return np.max(np.abs(np.argmax(y_pred,axis = -1) - np.argmax(y_true,axis = -1)), axis=-1)\n",
    "\n",
    "def std_L1_distance(y_true, y_pred):\n",
    "    return np.std(np.abs(np.argmax(y_pred,axis = -1) - np.argmax(y_true,axis = -1)), axis=-1)\n",
    "\n",
    "\n",
    "mapping = {\n",
    "0: '1905', 1: '1906', 2: '1908', 3: '1909', 4: '1910', 5: '1911', 6: '1912', 7: '1913', 8: '1914', 9: '1915',\n",
    "10: '1916', 11: '1919', 12: '1922', 13: '1923', 14: '1924', 15: '1925', 16: '1926', 17: '1927', 18: '1928',\n",
    "19: '1929', 20: '1930', 21: '1931', 22: '1932', 23: '1933', 24: '1934', 25: '1935', 26: '1936', 27: '1937',\n",
    "28: '1938', 29: '1939', 30: '1940', 31: '1941', 32: '1942', 33: '1943', 34: '1944', 35: '1945', 36: '1946',\n",
    "37: '1947', 38: '1948', 39: '1949', 40: '1950', 41: '1951', 42: '1952', 43: '1953', 44: '1954', 45: '1955',\n",
    "46: '1956', 47: '1957', 48: '1958', 49: '1959', 50: '1960', 51: '1961', 52: '1962', 53: '1963', 54: '1964',\n",
    "55: '1965', 56: '1966', 57: '1967', 58: '1968', 59: '1969', 60: '1970', 61: '1971', 62: '1972', 63: '1973',\n",
    "64: '1974', 65: '1975', 66: '1976', 67: '1977', 68: '1978', 69: '1979', 70: '1980', 71: '1981', 72: '1982',\n",
    "73: '1983', 74: '1984', 75: '1985', 76: '1986', 77: '1987', 78: '1988', 79: '1989', 80: '1990', 81: '1991',\n",
    "82: '1992', 83: '1993', 84: '1994', 85: '1995', 86: '1996', 87: '1997', 88: '1998', 89: '1999', 90: '2000',\n",
    "91: '2001', 92: '2002', 93: '2003', 94: '2004', 95: '2005', 96: '2006', 97: '2007', 98: '2008', 99: '2009',\n",
    "100: '2010', 101: '2011', 102: '2012', 103: '2013'}\n",
    "\n",
    "\n",
    "inverse_mapping = {\n",
    "'1905'  :   0   ,   '1906'  :   1   ,   '1908'  :   2   ,   '1909'  :   3   ,   '1910'  :   4   ,   '1911'  :   5   ,   '1912'  :   6   ,   '1913'  :   7   ,   '1914'  :   8   ,  '1915' : 9,\n",
    "'1916'  :   10  ,   '1919'  :   11  ,   '1922'  :   12  ,   '1923'  :   13  ,   '1924'  :   14  ,   '1925'  :   15  ,   '1926'  :   16  ,   '1927'  :   17  ,   '1928'  :   18  ,\n",
    "'1929'  :   19  ,   '1930'  :   20  ,   '1931'  :   21  ,   '1932'  :   22  ,   '1933'  :   23  ,   '1934'  :   24  ,   '1935'  :   25  ,   '1936'  :   26  ,   '1937'  :   27  ,\n",
    "'1938'  :   28  ,   '1939'  :   29  ,   '1940'  :   30  ,   '1941'  :   31  ,   '1942'  :   32  ,   '1943'  :   33  ,   '1944'  :   34  ,   '1945'  :   35  ,   '1946'  :   36  ,\n",
    "'1947'  :   37  ,   '1948'  :   38  ,   '1949'  :   39  ,   '1950'  :   40  ,   '1951'  :   41  ,   '1952'  :   42  ,   '1953'  :   43  ,   '1954'  :   44  ,   '1955'  :   45  ,\n",
    "'1956'  :   46  ,   '1957'  :   47  ,   '1958'  :   48  ,   '1959'  :   49  ,   '1960'  :   50  ,   '1961'  :   51  ,   '1962'  :   52  ,   '1963'  :   53  ,   '1964'  :   54  ,\n",
    "'1965'  :   55  ,   '1966'  :   56  ,   '1967'  :   57  ,   '1968'  :   58  ,   '1969'  :   59  ,   '1970'  :   60  ,   '1971'  :   61  ,   '1972'  :   62  ,   '1973'  :   63  ,\n",
    "'1974'  :   64  ,   '1975'  :   65  ,   '1976'  :   66  ,   '1977'  :   67  ,   '1978'  :   68  ,   '1979'  :   69  ,   '1980'  :   70  ,   '1981'  :   71  ,   '1982'  :   72  ,\n",
    "'1983'  :   73  ,   '1984'  :   74  ,   '1985'  :   75  ,   '1986'  :   76  ,   '1987'  :   77  ,   '1988'  :   78  ,   '1989'  :   79  ,   '1990'  :   80  ,   '1991'  :   81  ,\n",
    "'1992'  :   82  ,   '1993'  :   83  ,   '1994'  :   84  ,   '1995'  :   85  ,   '1996'  :   86  ,   '1997'  :   87  ,   '1998'  :   88  ,   '1999'  :   89  ,   '2000'  :   90  ,\n",
    "'2001'  :   91  ,   '2002'  :   92  ,   '2003'  :   93  ,   '2004'  :   94  ,   '2005'  :   95  ,   '2006'  :   96  ,   '2007'  :   97  ,   '2008'  :   98  ,   '2009'  :   99  ,\n",
    "'2010'  :   100 ,   '2011'  :   101 ,   '2012'  :   102 ,   '2013'  :   103 }                                                                                "
   ]
  },
  {
   "cell_type": "code",
   "execution_count": 62,
   "metadata": {
    "collapsed": false
   },
   "outputs": [],
   "source": [
    "cmap=plt.cm.YlOrRd\n",
    "normalize=False\n",
    "title='Confusion matrix'\n",
    "\n",
    "classes_val = mapping.values()\n",
    "classes = np.fromiter(iter(classes_val), dtype=int) # turn into numpy array\n",
    "classes_index1 = mapping.keys()\n",
    "classes_index = np.fromiter(iter(classes_index1), dtype=int) # turn into numpy array\n",
    "\n",
    "categorical_labels = to_categorical(classes_index, num_classes=len(classes_index))"
   ]
  },
  {
   "cell_type": "code",
   "execution_count": 63,
   "metadata": {
    "collapsed": false
   },
   "outputs": [
    {
     "name": "stdout",
     "output_type": "stream",
     "text": [
      "mean_L1_distance:\n",
      "5.87322818926\n",
      "min_L1_distance:\n",
      "0\n",
      "max_L1_distance:\n",
      "77\n",
      "std_L1_distance:\n",
      "7.64422125312\n"
     ]
    }
   ],
   "source": [
    "y_pred_mat=np.zeros((len(y_pred), len(classes_index)))\n",
    "y_true_mat=np.zeros((len(y_pred), len(classes_index)))\n",
    "\n",
    "# one hot encode the true labels and predicted labels\n",
    "for i in range(len(y_pred)):\n",
    "    y_pred_mat[i,:] = categorical_labels[:,y_pred[i]]\n",
    "    y_true_mat[i,:] = categorical_labels[:,y_true[i]]\n",
    "\n",
    "\n",
    "mean_L1_distance = mean_L1_distance(y_true_mat, y_pred_mat)\n",
    "print (\"mean_L1_distance:\")\n",
    "print (mean_L1_distance)\n",
    "min_L1_distance = min_L1_distance(y_true_mat, y_pred_mat)\n",
    "print (\"min_L1_distance:\")\n",
    "print (min_L1_distance)\n",
    "max_L1_distance = max_L1_distance(y_true_mat, y_pred_mat)\n",
    "print (\"max_L1_distance:\")\n",
    "print (max_L1_distance)\n",
    "std_L1_distance = std_L1_distance(y_true_mat, y_pred_mat)\n",
    "print (\"std_L1_distance:\")\n",
    "print (std_L1_distance)"
   ]
  },
  {
   "cell_type": "code",
   "execution_count": null,
   "metadata": {
    "collapsed": false
   },
   "outputs": [
    {
     "name": "stdout",
     "output_type": "stream",
     "text": [
      "Confusion matrix, without normalization\n"
     ]
    }
   ],
   "source": [
    "if normalize:\n",
    "    c_mat = c_mat.astype('float') / c_mat.sum(axis=1)[:, np.newaxis]\n",
    "    print(\"Normalized confusion matrix\")\n",
    "else:\n",
    "    print('Confusion matrix, without normalization')\n",
    "    \n",
    "# print(c_mat)\n",
    "plt.figure()\n",
    "plt.imshow(c_mat, interpolation='nearest', cmap=cmap)\n",
    "frame1 = plt.gca()\n",
    "plt.title(title)\n",
    "plt.colorbar()\n",
    "tick_marks = np.arange(len(classes))\n",
    "\n",
    "# plt.xticks(tick_marks[0:-1:4], classes[0:-1:4], rotation=45, fontsize=8)\n",
    "# plt.yticks(tick_marks[0:-1:4], classes[0:-1:4], fontsize=8)\n",
    "# plt.xticks(tick_marks[0:-1:4], classes_index[0:-1:4], rotation=45, fontsize=8)\n",
    "# plt.yticks(tick_marks[0:-1:4], classes_index[0:-1:4], fontsize=8)\n",
    "plt.xticks(tick_marks[0:-1:4], rotation=45, fontsize=8)\n",
    "plt.yticks(tick_marks[0:-1:4], fontsize=8)\n",
    "\n",
    "# frame1.axes.get_xaxis().set_visible(False)\n",
    "# frame1.axes.get_yaxis().set_visible(False)\n",
    "# frame1.axes.get_xaxis().set_ticks([])\n",
    "# frame1.axes.get_yaxis().set_ticks([])\n",
    "\n",
    "# plt.xticks(tick_marks,rotation=45)\n",
    "# plt.yticks(tick_marks)\n",
    "# tick_params(labelsize=6)\n",
    "\n",
    "# fmt = '.2f' if normalize else 'd'\n",
    "# thresh = c_mat.max() / 2.\n",
    "# for i, j in itertools.product(range(c_mat.shape[0]), range(c_mat.shape[1])):\n",
    "#     plt.text(j, i, format(c_mat[i, j], fmt),\n",
    "#              horizontalalignment=\"center\",\n",
    "#              color=\"white\" if c_mat[i, j] > thresh else \"black\")\n",
    "\n",
    "plt.tight_layout()\n",
    "plt.ylabel('True label')\n",
    "plt.xlabel('Predicted label')\n",
    "conf_mat_path = \"./conf_matrix_\" + data_set + \".pdf\"\n",
    "plt.savefig(conf_mat_path)\n",
    "plt.show()"
   ]
  },
  {
   "cell_type": "code",
   "execution_count": 17,
   "metadata": {
    "collapsed": false
   },
   "outputs": [],
   "source": [
    "import numpy\n",
    "a = numpy.asarray([ [1,2,3], [4,5,6], [7,8,9] ])\n",
    "numpy.savetxt(\"foo.csv\", a, delimiter=\",\", fmt=\"%d\")\n"
   ]
  },
  {
   "cell_type": "code",
   "execution_count": null,
   "metadata": {
    "collapsed": true
   },
   "outputs": [],
   "source": []
  }
 ],
 "metadata": {
  "anaconda-cloud": {},
  "kernelspec": {
   "display_name": "Python [Root]",
   "language": "python",
   "name": "Python [Root]"
  },
  "language_info": {
   "codemirror_mode": {
    "name": "ipython",
    "version": 3
   },
   "file_extension": ".py",
   "mimetype": "text/x-python",
   "name": "python",
   "nbconvert_exporter": "python",
   "pygments_lexer": "ipython3",
   "version": "3.5.3"
  }
 },
 "nbformat": 4,
 "nbformat_minor": 0
}
